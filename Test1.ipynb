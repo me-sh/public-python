{
 "cells": [
  {
   "cell_type": "code",
   "execution_count": 11,
   "metadata": {
    "collapsed": true
   },
   "outputs": [],
   "source": [
    "import numpy as np\n",
    "import pandas as pd\n",
    "import seaborn as sps\n",
    "import matplotlib.pyplot as plt"
   ]
  },
  {
   "execution_count": 4,
   "metadata": {},
   "outputs": [
    {
  addition
     "name": "stdout",
     "output_type": "stream",
     "text": [
      "<class 'pandas.core.frame.DataFrame'>\n"
     ]
    }
   ],
   "source": [
    "df1 = pd.DataFrame\n",
    "print(df1)"
   ]
  },
  {
   "cell_type": "code",
   "execution_count": 17,
   "metadata": {},
   "outputs": [
    {
     "name": "stdout",
     "output_type": "stream",
     "text": [
      "[ 1.  1.  1.  1.  1.]\n"
     ]
    },
    {
     "data": {
      "image/png": "iVBORw0KGgoAAAANSUhEUgAAAecAAAFJCAYAAAChG+XKAAAABHNCSVQICAgIfAhkiAAAAAlwSFlz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\nAABJRU5ErkJggg==\n",
      "text/plain": [
       "<matplotlib.figure.Figure at 0x22286269208>"
      ]
     },
     "metadata": {},
     "output_type": "display_data"
    }
   ],
   "source": [
    "a = np.ones((5,), dtype=np.float)\n",
    "print(a)\n",
    "plt.plot(a)\n",
    "plt.show()\n"
   ]
  },
  {
   "cell_type": "code",
   "execution_count": null,
   "metadata": {
    "collapsed": true
   },
   "outputs": [],
   "source": []
  }
 ],
 "metadata": {
  "celltoolbar": "Raw Cell Format",
  "kernelspec": {
   "display_name": "Python 3",
   "language": "python",
   "name": "python3"
  },
  "language_info": {
   "codemirror_mode": {
    "name": "ipython",
    "version": 3
   },
   "file_extension": ".py",
   "mimetype": "text/x-python",
   "name": "python",
   "nbconvert_exporter": "python",
   "pygments_lexer": "ipython3",
   "version": "3.6.1"
  }
 },
 "nbformat": 4,
 "nbformat_minor": 1
}
